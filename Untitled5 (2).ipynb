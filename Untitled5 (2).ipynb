{
  "nbformat": 4,
  "nbformat_minor": 0,
  "metadata": {
    "colab": {
      "provenance": []
    },
    "kernelspec": {
      "name": "python3",
      "display_name": "Python 3"
    },
    "language_info": {
      "name": "python"
    }
  },
  "cells": [
    {
      "cell_type": "code",
      "execution_count": null,
      "metadata": {
        "colab": {
          "base_uri": "https://localhost:8080/"
        },
        "id": "cPafZV9B3oRl",
        "outputId": "a47b6afe-28d2-4176-adbe-a5f3db03c188"
      },
      "outputs": [
        {
          "output_type": "stream",
          "name": "stdout",
          "text": [
            "Looking in indexes: https://pypi.org/simple, https://us-python.pkg.dev/colab-wheels/public/simple/\n",
            "Requirement already satisfied: requests in /usr/local/lib/python3.10/dist-packages (2.27.1)\n",
            "Requirement already satisfied: urllib3<1.27,>=1.21.1 in /usr/local/lib/python3.10/dist-packages (from requests) (1.26.15)\n",
            "Requirement already satisfied: certifi>=2017.4.17 in /usr/local/lib/python3.10/dist-packages (from requests) (2022.12.7)\n",
            "Requirement already satisfied: charset-normalizer~=2.0.0 in /usr/local/lib/python3.10/dist-packages (from requests) (2.0.12)\n",
            "Requirement already satisfied: idna<4,>=2.5 in /usr/local/lib/python3.10/dist-packages (from requests) (3.4)\n",
            "Looking in indexes: https://pypi.org/simple, https://us-python.pkg.dev/colab-wheels/public/simple/\n",
            "Collecting fake-useragent\n",
            "  Downloading fake_useragent-1.1.3-py3-none-any.whl (50 kB)\n",
            "\u001b[2K     \u001b[90m━━━━━━━━━━━━━━━━━━━━━━━━━━━━━━━━━━━━━━━━\u001b[0m \u001b[32m50.5/50.5 kB\u001b[0m \u001b[31m2.3 MB/s\u001b[0m eta \u001b[36m0:00:00\u001b[0m\n",
            "\u001b[?25hInstalling collected packages: fake-useragent\n",
            "Successfully installed fake-useragent-1.1.3\n"
          ]
        }
      ],
      "source": [
        "# установка и импорт библиотек\n",
        "!pip install requests\n",
        "!pip install fake-useragent\n",
        "import requests\n",
        "from bs4 import BeautifulSoup\n",
        "import pandas as pd\n",
        "import numpy as np"
      ]
    },
    {
      "cell_type": "code",
      "source": [
        "# названия столбцов итоговой таблички\n",
        "columns = [ 'Цена',\n",
        "            'Название',\n",
        "            'Страна производства',\n",
        "            'Количество деталей',\n",
        "            'Скидка',\n",
        "            'Серия LEGO',\n",
        "            'Тематика конструктора',\n",
        "            'Возрастная группа',\n",
        "            'Тип конструктора' ]\n",
        "# создаём пустую табличку с указанными выше столбцами\n",
        "data = pd.DataFrame(columns = columns)"
      ],
      "metadata": {
        "id": "jkl-Goss3tNc"
      },
      "execution_count": null,
      "outputs": []
    },
    {
      "cell_type": "code",
      "source": [
        "from requests.models import HTTPError\n",
        "url = f'https://www.detmir.ru/catalog/index/name/lego/{i}' \n",
        "timeout = 10\n",
        "try:\n",
        "  response = requests.get(url, timeout=timeout) # запрос к странице\n",
        "  response.raise_for_status()\n",
        "except(requests.HTTPError, requests.Timeout, requests.ConnectionError) as e:\n",
        "  print(f\"Request error: {e}\")"
      ],
      "metadata": {
        "colab": {
          "base_uri": "https://localhost:8080/"
        },
        "id": "9QlMPZnl8EtD",
        "outputId": "1ba16c50-9603-4e0e-83dd-a5fc4eb32860"
      },
      "execution_count": null,
      "outputs": [
        {
          "output_type": "stream",
          "name": "stdout",
          "text": [
            "Request error: HTTPSConnectionPool(host='www.detmir.ru', port=443): Max retries exceeded with url: /catalog/index/name/lego/4 (Caused by ConnectTimeoutError(<urllib3.connection.HTTPSConnection object at 0x7f076647d570>, 'Connection to www.detmir.ru timed out. (connect timeout=10)'))\n"
          ]
        }
      ]
    },
    {
      "cell_type": "code",
      "source": [
        "from requests.models import HTTPError\n",
        "# проходимся по первым 50-ти страницам сайта\n",
        "for i in range(50): \n",
        "  tree = BeautifulSoup(response.content, 'html.parser') # парсинг страницы\n",
        "  lego = tree.find_all(class_='cl_info') # внутри такого класса находятся товары\n",
        "  for j in range(50):\n",
        "    new_row = {columns[i] : None for i in range(len(columns))} # словарь для новой строки таблички\n",
        "    # Изначально всё None\n",
        "    new_row['Цена'] = int(lego[j].find(class_ = 'price').text.replace(' ', '')) \n",
        "    # для данного товара у цены есть свой класс, пишем цену. Аналогично с названием\n",
        "    new_row['Название'] = lego[j].find(class_ = 'goods_name').text.strip()\n",
        "    country = lego[j].find(class_ = 'country')\n",
        "    if country:\n",
        "      new_row['Страна производства'] = country.text.strip()\n",
        "    parts = lego[j].find(class_ = 'parts')\n",
        "    if parts:\n",
        "      new_row['Количество деталей'] = parts.text.strip()\n",
        "    # Также есть дополнительная информация. Выделим самую популярную:\n",
        "    # скидка ,серия, тематика, возрастная группа, тип конструктора\n",
        "    additional_info = lego[j].find(class_ = 'p_info') # внутри этого класса вся дополнительная информация,\n",
        "    #  для которой не был создан отдельный класс\n",
        "    for add in additional_info.find_all(itemprop='itemCondition'):\n",
        "      # Поэтому для каждого блока с дополнительной информацией придётся проверять,\n",
        "      # что именно это за информация\n",
        "      # Далее в зависимости от вида информации (itemprop=\"name\")\n",
        "      # записываем её по тому или иному ключу словаря, по возможности убирая всякие лишния пробелы и переносы строк\n",
        "      if add.find(itemprop=\"name\").text == 'Скидка:':\n",
        "        new_row['Скидка'] = add.find(itemprop=\"description\").text\n",
        "      elif add.find(itemprop=\"name\").text == 'Конструктор:':\n",
        "        all = add.find(itemprop=\"description\").text.split(', ')\n",
        "        if len(all) >1:\n",
        "          new_row['Серия LEGO'] = all[0]\n",
        "          new_row['Тематика конструктора'] = all[-1]\n",
        "        elif len(all) == 1:\n",
        "          new_row['Серия LEGO'] = all[0]\n",
        "\n",
        "      elif add.find(itemprop=\"name\").text == 'Возрастная группа:':\n",
        "        new_row['Возрастная группа'] = add.find(itemprop=\"description\").text.strip()\n",
        "      elif add.find(itemprop=\"name\").text == 'Тип конструктора:':\n",
        "        new_row['Тип конструктора'] = add.find(itemprop=\"description\").text.strip()\n",
        "    data.loc[50 * i + j] = new_row"
      ],
      "metadata": {
        "colab": {
          "base_uri": "https://localhost:8080/",
          "height": 236
        },
        "id": "D3uckIoX3y_v",
        "outputId": "0120e078-764d-4128-8a9f-1e5fd49333d0"
      },
      "execution_count": null,
      "outputs": [
        {
          "output_type": "error",
          "ename": "NameError",
          "evalue": "ignored",
          "traceback": [
            "\u001b[0;31m---------------------------------------------------------------------------\u001b[0m",
            "\u001b[0;31mNameError\u001b[0m                                 Traceback (most recent call last)",
            "\u001b[0;32m<ipython-input-16-442e786262ec>\u001b[0m in \u001b[0;36m<cell line: 3>\u001b[0;34m()\u001b[0m\n\u001b[1;32m      2\u001b[0m \u001b[0;31m# проходимся по первым 50-ти страницам сайта\u001b[0m\u001b[0;34m\u001b[0m\u001b[0;34m\u001b[0m\u001b[0m\n\u001b[1;32m      3\u001b[0m \u001b[0;32mfor\u001b[0m \u001b[0mi\u001b[0m \u001b[0;32min\u001b[0m \u001b[0mrange\u001b[0m\u001b[0;34m(\u001b[0m\u001b[0;36m50\u001b[0m\u001b[0;34m)\u001b[0m\u001b[0;34m:\u001b[0m\u001b[0;34m\u001b[0m\u001b[0;34m\u001b[0m\u001b[0m\n\u001b[0;32m----> 4\u001b[0;31m   \u001b[0mtree\u001b[0m \u001b[0;34m=\u001b[0m \u001b[0mBeautifulSoup\u001b[0m\u001b[0;34m(\u001b[0m\u001b[0mresponse\u001b[0m\u001b[0;34m.\u001b[0m\u001b[0mcontent\u001b[0m\u001b[0;34m,\u001b[0m \u001b[0;34m'html.parser'\u001b[0m\u001b[0;34m)\u001b[0m \u001b[0;31m# парсинг страницы\u001b[0m\u001b[0;34m\u001b[0m\u001b[0;34m\u001b[0m\u001b[0m\n\u001b[0m\u001b[1;32m      5\u001b[0m   \u001b[0mlego\u001b[0m \u001b[0;34m=\u001b[0m \u001b[0mtree\u001b[0m\u001b[0;34m.\u001b[0m\u001b[0mfind_all\u001b[0m\u001b[0;34m(\u001b[0m\u001b[0mclass_\u001b[0m\u001b[0;34m=\u001b[0m\u001b[0;34m'cl_info'\u001b[0m\u001b[0;34m)\u001b[0m \u001b[0;31m# внутри такого класса находятся товары\u001b[0m\u001b[0;34m\u001b[0m\u001b[0;34m\u001b[0m\u001b[0m\n\u001b[1;32m      6\u001b[0m   \u001b[0;32mfor\u001b[0m \u001b[0mj\u001b[0m \u001b[0;32min\u001b[0m \u001b[0mrange\u001b[0m\u001b[0;34m(\u001b[0m\u001b[0;36m50\u001b[0m\u001b[0;34m)\u001b[0m\u001b[0;34m:\u001b[0m\u001b[0;34m\u001b[0m\u001b[0;34m\u001b[0m\u001b[0m\n",
            "\u001b[0;31mNameError\u001b[0m: name 'response' is not defined"
          ]
        }
      ]
    },
    {
      "cell_type": "code",
      "source": [],
      "metadata": {
        "id": "hp-3XQ564qWW"
      },
      "execution_count": null,
      "outputs": []
    },
    {
      "cell_type": "code",
      "source": [
        "data # смотрим на несколько строк готовой таблички"
      ],
      "metadata": {
        "colab": {
          "base_uri": "https://localhost:8080/",
          "height": 107
        },
        "id": "wxVQIu0t35LM",
        "outputId": "6f3ca54c-7dac-4c10-8a2e-d08e5ec2a35f"
      },
      "execution_count": null,
      "outputs": [
        {
          "output_type": "execute_result",
          "data": {
            "text/plain": [
              "Empty DataFrame\n",
              "Columns: [Цена, Название, Страна производства, Количество деталей, Скидка, Серия LEGO, Тематика конструктора, Возрастная группа, Тип конструктора]\n",
              "Index: []"
            ],
            "text/html": [
              "\n",
              "  <div id=\"df-a67204f6-d7d2-4ade-b2ec-30e2a991565e\">\n",
              "    <div class=\"colab-df-container\">\n",
              "      <div>\n",
              "<style scoped>\n",
              "    .dataframe tbody tr th:only-of-type {\n",
              "        vertical-align: middle;\n",
              "    }\n",
              "\n",
              "    .dataframe tbody tr th {\n",
              "        vertical-align: top;\n",
              "    }\n",
              "\n",
              "    .dataframe thead th {\n",
              "        text-align: right;\n",
              "    }\n",
              "</style>\n",
              "<table border=\"1\" class=\"dataframe\">\n",
              "  <thead>\n",
              "    <tr style=\"text-align: right;\">\n",
              "      <th></th>\n",
              "      <th>Цена</th>\n",
              "      <th>Название</th>\n",
              "      <th>Страна производства</th>\n",
              "      <th>Количество деталей</th>\n",
              "      <th>Скидка</th>\n",
              "      <th>Серия LEGO</th>\n",
              "      <th>Тематика конструктора</th>\n",
              "      <th>Возрастная группа</th>\n",
              "      <th>Тип конструктора</th>\n",
              "    </tr>\n",
              "  </thead>\n",
              "  <tbody>\n",
              "  </tbody>\n",
              "</table>\n",
              "</div>\n",
              "      <button class=\"colab-df-convert\" onclick=\"convertToInteractive('df-a67204f6-d7d2-4ade-b2ec-30e2a991565e')\"\n",
              "              title=\"Convert this dataframe to an interactive table.\"\n",
              "              style=\"display:none;\">\n",
              "        \n",
              "  <svg xmlns=\"http://www.w3.org/2000/svg\" height=\"24px\"viewBox=\"0 0 24 24\"\n",
              "       width=\"24px\">\n",
              "    <path d=\"M0 0h24v24H0V0z\" fill=\"none\"/>\n",
              "    <path d=\"M18.56 5.44l.94 2.06.94-2.06 2.06-.94-2.06-.94-.94-2.06-.94 2.06-2.06.94zm-11 1L8.5 8.5l.94-2.06 2.06-.94-2.06-.94L8.5 2.5l-.94 2.06-2.06.94zm10 10l.94 2.06.94-2.06 2.06-.94-2.06-.94-.94-2.06-.94 2.06-2.06.94z\"/><path d=\"M17.41 7.96l-1.37-1.37c-.4-.4-.92-.59-1.43-.59-.52 0-1.04.2-1.43.59L10.3 9.45l-7.72 7.72c-.78.78-.78 2.05 0 2.83L4 21.41c.39.39.9.59 1.41.59.51 0 1.02-.2 1.41-.59l7.78-7.78 2.81-2.81c.8-.78.8-2.07 0-2.86zM5.41 20L4 18.59l7.72-7.72 1.47 1.35L5.41 20z\"/>\n",
              "  </svg>\n",
              "      </button>\n",
              "      \n",
              "  <style>\n",
              "    .colab-df-container {\n",
              "      display:flex;\n",
              "      flex-wrap:wrap;\n",
              "      gap: 12px;\n",
              "    }\n",
              "\n",
              "    .colab-df-convert {\n",
              "      background-color: #E8F0FE;\n",
              "      border: none;\n",
              "      border-radius: 50%;\n",
              "      cursor: pointer;\n",
              "      display: none;\n",
              "      fill: #1967D2;\n",
              "      height: 32px;\n",
              "      padding: 0 0 0 0;\n",
              "      width: 32px;\n",
              "    }\n",
              "\n",
              "    .colab-df-convert:hover {\n",
              "      background-color: #E2EBFA;\n",
              "      box-shadow: 0px 1px 2px rgba(60, 64, 67, 0.3), 0px 1px 3px 1px rgba(60, 64, 67, 0.15);\n",
              "      fill: #174EA6;\n",
              "    }\n",
              "\n",
              "    [theme=dark] .colab-df-convert {\n",
              "      background-color: #3B4455;\n",
              "      fill: #D2E3FC;\n",
              "    }\n",
              "\n",
              "    [theme=dark] .colab-df-convert:hover {\n",
              "      background-color: #434B5C;\n",
              "      box-shadow: 0px 1px 3px 1px rgba(0, 0, 0, 0.15);\n",
              "      filter: drop-shadow(0px 1px 2px rgba(0, 0, 0, 0.3));\n",
              "      fill: #FFFFFF;\n",
              "    }\n",
              "  </style>\n",
              "\n",
              "      <script>\n",
              "        const buttonEl =\n",
              "          document.querySelector('#df-a67204f6-d7d2-4ade-b2ec-30e2a991565e button.colab-df-convert');\n",
              "        buttonEl.style.display =\n",
              "          google.colab.kernel.accessAllowed ? 'block' : 'none';\n",
              "\n",
              "        async function convertToInteractive(key) {\n",
              "          const element = document.querySelector('#df-a67204f6-d7d2-4ade-b2ec-30e2a991565e');\n",
              "          const dataTable =\n",
              "            await google.colab.kernel.invokeFunction('convertToInteractive',\n",
              "                                                     [key], {});\n",
              "          if (!dataTable) return;\n",
              "\n",
              "          const docLinkHtml = 'Like what you see? Visit the ' +\n",
              "            '<a target=\"_blank\" href=https://colab.research.google.com/notebooks/data_table.ipynb>data table notebook</a>'\n",
              "            + ' to learn more about interactive tables.';\n",
              "          element.innerHTML = '';\n",
              "          dataTable['output_type'] = 'display_data';\n",
              "          await google.colab.output.renderOutput(dataTable, element);\n",
              "          const docLink = document.createElement('div');\n",
              "          docLink.innerHTML = docLinkHtml;\n",
              "          element.appendChild(docLink);\n",
              "        }\n",
              "      </script>\n",
              "    </div>\n",
              "  </div>\n",
              "  "
            ]
          },
          "metadata": {},
          "execution_count": 4
        }
      ]
    },
    {
      "cell_type": "code",
      "source": [
        "data.info() "
      ],
      "metadata": {
        "colab": {
          "base_uri": "https://localhost:8080/"
        },
        "id": "q3zIYHzL4rVm",
        "outputId": "3fcf049f-cb7c-4c17-d92b-84ad1368cd53"
      },
      "execution_count": null,
      "outputs": [
        {
          "output_type": "stream",
          "name": "stdout",
          "text": [
            "<class 'pandas.core.frame.DataFrame'>\n",
            "Index: 0 entries\n",
            "Data columns (total 9 columns):\n",
            " #   Column                 Non-Null Count  Dtype \n",
            "---  ------                 --------------  ----- \n",
            " 0   Цена                   0 non-null      object\n",
            " 1   Название               0 non-null      object\n",
            " 2   Страна производства    0 non-null      object\n",
            " 3   Количество деталей     0 non-null      object\n",
            " 4   Скидка                 0 non-null      object\n",
            " 5   Серия LEGO             0 non-null      object\n",
            " 6   Тематика конструктора  0 non-null      object\n",
            " 7   Возрастная группа      0 non-null      object\n",
            " 8   Тип конструктора       0 non-null      object\n",
            "dtypes: object(9)\n",
            "memory usage: 0.0+ bytes\n"
          ]
        }
      ]
    }
  ]
}